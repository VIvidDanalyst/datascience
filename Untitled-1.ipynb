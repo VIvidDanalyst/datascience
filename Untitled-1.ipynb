{
 "cells": [
  {
   "cell_type": "code",
   "execution_count": null,
   "metadata": {},
   "outputs": [],
   "source": [
    "import pandas as pd "
   ]
  },
  {
   "cell_type": "code",
   "execution_count": null,
   "metadata": {},
   "outputs": [],
   "source": [
    "import numpy as np\n"
   ]
  },
  {
   "cell_type": "code",
   "execution_count": null,
   "metadata": {},
   "outputs": [
    {
     "data": {
      "text/html": [
       "<div>\n",
       "<style scoped>\n",
       "    .dataframe tbody tr th:only-of-type {\n",
       "        vertical-align: middle;\n",
       "    }\n",
       "\n",
       "    .dataframe tbody tr th {\n",
       "        vertical-align: top;\n",
       "    }\n",
       "\n",
       "    .dataframe thead th {\n",
       "        text-align: right;\n",
       "    }\n",
       "</style>\n",
       "<table border=\"1\" class=\"dataframe\">\n",
       "  <thead>\n",
       "    <tr style=\"text-align: right;\">\n",
       "      <th></th>\n",
       "      <th>Crime ID</th>\n",
       "      <th>Month</th>\n",
       "      <th>Reported by</th>\n",
       "      <th>Falls within</th>\n",
       "      <th>Longitude</th>\n",
       "      <th>Latitude</th>\n",
       "      <th>Location</th>\n",
       "      <th>LSOA code</th>\n",
       "      <th>LSOA name</th>\n",
       "      <th>Outcome type</th>\n",
       "    </tr>\n",
       "  </thead>\n",
       "  <tbody>\n",
       "    <tr>\n",
       "      <th>0</th>\n",
       "      <td>06871c19e6c6f5782e32f2e5a6a696932b4e65132e5a3a...</td>\n",
       "      <td>2023-02</td>\n",
       "      <td>Avon and Somerset Constabulary</td>\n",
       "      <td>Avon and Somerset Constabulary</td>\n",
       "      <td>-2.392817</td>\n",
       "      <td>51.380321</td>\n",
       "      <td>On or near MILL LANE</td>\n",
       "      <td>E01014464</td>\n",
       "      <td>Bath and North East Somerset 011D</td>\n",
       "      <td>Suspect charged</td>\n",
       "    </tr>\n",
       "    <tr>\n",
       "      <th>1</th>\n",
       "      <td>33e162f6910c6dcac4da5a5b240ff2c2b055f9cb7da126...</td>\n",
       "      <td>2023-02</td>\n",
       "      <td>Avon and Somerset Constabulary</td>\n",
       "      <td>Avon and Somerset Constabulary</td>\n",
       "      <td>NaN</td>\n",
       "      <td>NaN</td>\n",
       "      <td>No location</td>\n",
       "      <td>NaN</td>\n",
       "      <td>NaN</td>\n",
       "      <td>Unable to prosecute suspect</td>\n",
       "    </tr>\n",
       "    <tr>\n",
       "      <th>2</th>\n",
       "      <td>81b5cd317a511c31160564198b2fbc58367e449677f638...</td>\n",
       "      <td>2023-02</td>\n",
       "      <td>Avon and Somerset Constabulary</td>\n",
       "      <td>Avon and Somerset Constabulary</td>\n",
       "      <td>NaN</td>\n",
       "      <td>NaN</td>\n",
       "      <td>No location</td>\n",
       "      <td>NaN</td>\n",
       "      <td>NaN</td>\n",
       "      <td>Formal action is not in the public interest</td>\n",
       "    </tr>\n",
       "    <tr>\n",
       "      <th>3</th>\n",
       "      <td>8f89f2b7c0e2e609f3c13f2ee0c49130359b03e94f0a64...</td>\n",
       "      <td>2023-02</td>\n",
       "      <td>Avon and Somerset Constabulary</td>\n",
       "      <td>Avon and Somerset Constabulary</td>\n",
       "      <td>NaN</td>\n",
       "      <td>NaN</td>\n",
       "      <td>No location</td>\n",
       "      <td>NaN</td>\n",
       "      <td>NaN</td>\n",
       "      <td>Unable to prosecute suspect</td>\n",
       "    </tr>\n",
       "    <tr>\n",
       "      <th>4</th>\n",
       "      <td>767e05dee5caf5ea0b119e6f99a0a8effbead739d54cfd...</td>\n",
       "      <td>2023-02</td>\n",
       "      <td>Avon and Somerset Constabulary</td>\n",
       "      <td>Avon and Somerset Constabulary</td>\n",
       "      <td>NaN</td>\n",
       "      <td>NaN</td>\n",
       "      <td>No location</td>\n",
       "      <td>NaN</td>\n",
       "      <td>NaN</td>\n",
       "      <td>Offender given a caution</td>\n",
       "    </tr>\n",
       "    <tr>\n",
       "      <th>...</th>\n",
       "      <td>...</td>\n",
       "      <td>...</td>\n",
       "      <td>...</td>\n",
       "      <td>...</td>\n",
       "      <td>...</td>\n",
       "      <td>...</td>\n",
       "      <td>...</td>\n",
       "      <td>...</td>\n",
       "      <td>...</td>\n",
       "      <td>...</td>\n",
       "    </tr>\n",
       "    <tr>\n",
       "      <th>6194</th>\n",
       "      <td>218bdea11bd4aca908d0a3d1832c6fd67f7966dafc9f43...</td>\n",
       "      <td>2023-02</td>\n",
       "      <td>Avon and Somerset Constabulary</td>\n",
       "      <td>Avon and Somerset Constabulary</td>\n",
       "      <td>-2.410687</td>\n",
       "      <td>51.528963</td>\n",
       "      <td>On or near SLIMBRIDGE CLOSE</td>\n",
       "      <td>E01014894</td>\n",
       "      <td>South Gloucestershire 014C</td>\n",
       "      <td>Unable to prosecute suspect</td>\n",
       "    </tr>\n",
       "    <tr>\n",
       "      <th>6195</th>\n",
       "      <td>218bdea11bd4aca908d0a3d1832c6fd67f7966dafc9f43...</td>\n",
       "      <td>2023-02</td>\n",
       "      <td>Avon and Somerset Constabulary</td>\n",
       "      <td>Avon and Somerset Constabulary</td>\n",
       "      <td>-2.410687</td>\n",
       "      <td>51.528963</td>\n",
       "      <td>On or near SLIMBRIDGE CLOSE</td>\n",
       "      <td>E01014894</td>\n",
       "      <td>South Gloucestershire 014C</td>\n",
       "      <td>Unable to prosecute suspect</td>\n",
       "    </tr>\n",
       "    <tr>\n",
       "      <th>6196</th>\n",
       "      <td>407a120e57947e84b1849f8052d2cbc2d829abd33052da...</td>\n",
       "      <td>2023-02</td>\n",
       "      <td>Avon and Somerset Constabulary</td>\n",
       "      <td>Avon and Somerset Constabulary</td>\n",
       "      <td>-2.999436</td>\n",
       "      <td>51.107284</td>\n",
       "      <td>On or near COTSWOLD WAY</td>\n",
       "      <td>E01032630</td>\n",
       "      <td>Sedgemoor 014G</td>\n",
       "      <td>Formal action is not in the public interest</td>\n",
       "    </tr>\n",
       "    <tr>\n",
       "      <th>6197</th>\n",
       "      <td>407a120e57947e84b1849f8052d2cbc2d829abd33052da...</td>\n",
       "      <td>2023-02</td>\n",
       "      <td>Avon and Somerset Constabulary</td>\n",
       "      <td>Avon and Somerset Constabulary</td>\n",
       "      <td>-2.999436</td>\n",
       "      <td>51.107284</td>\n",
       "      <td>On or near COTSWOLD WAY</td>\n",
       "      <td>E01032630</td>\n",
       "      <td>Sedgemoor 014G</td>\n",
       "      <td>Unable to prosecute suspect</td>\n",
       "    </tr>\n",
       "    <tr>\n",
       "      <th>6198</th>\n",
       "      <td>f7b9fa8f6c93edb6929fc2187fcbfee691d88c4a87253d...</td>\n",
       "      <td>2023-02</td>\n",
       "      <td>Avon and Somerset Constabulary</td>\n",
       "      <td>Avon and Somerset Constabulary</td>\n",
       "      <td>-2.676240</td>\n",
       "      <td>51.491415</td>\n",
       "      <td>On or near WOODVIEW CLOSE</td>\n",
       "      <td>E01014492</td>\n",
       "      <td>Bristol 008A</td>\n",
       "      <td>Unable to prosecute suspect</td>\n",
       "    </tr>\n",
       "  </tbody>\n",
       "</table>\n",
       "<p>6199 rows × 10 columns</p>\n",
       "</div>"
      ],
      "text/plain": [
       "                                               Crime ID    Month  \\\n",
       "0     06871c19e6c6f5782e32f2e5a6a696932b4e65132e5a3a...  2023-02   \n",
       "1     33e162f6910c6dcac4da5a5b240ff2c2b055f9cb7da126...  2023-02   \n",
       "2     81b5cd317a511c31160564198b2fbc58367e449677f638...  2023-02   \n",
       "3     8f89f2b7c0e2e609f3c13f2ee0c49130359b03e94f0a64...  2023-02   \n",
       "4     767e05dee5caf5ea0b119e6f99a0a8effbead739d54cfd...  2023-02   \n",
       "...                                                 ...      ...   \n",
       "6194  218bdea11bd4aca908d0a3d1832c6fd67f7966dafc9f43...  2023-02   \n",
       "6195  218bdea11bd4aca908d0a3d1832c6fd67f7966dafc9f43...  2023-02   \n",
       "6196  407a120e57947e84b1849f8052d2cbc2d829abd33052da...  2023-02   \n",
       "6197  407a120e57947e84b1849f8052d2cbc2d829abd33052da...  2023-02   \n",
       "6198  f7b9fa8f6c93edb6929fc2187fcbfee691d88c4a87253d...  2023-02   \n",
       "\n",
       "                         Reported by                    Falls within  \\\n",
       "0     Avon and Somerset Constabulary  Avon and Somerset Constabulary   \n",
       "1     Avon and Somerset Constabulary  Avon and Somerset Constabulary   \n",
       "2     Avon and Somerset Constabulary  Avon and Somerset Constabulary   \n",
       "3     Avon and Somerset Constabulary  Avon and Somerset Constabulary   \n",
       "4     Avon and Somerset Constabulary  Avon and Somerset Constabulary   \n",
       "...                              ...                             ...   \n",
       "6194  Avon and Somerset Constabulary  Avon and Somerset Constabulary   \n",
       "6195  Avon and Somerset Constabulary  Avon and Somerset Constabulary   \n",
       "6196  Avon and Somerset Constabulary  Avon and Somerset Constabulary   \n",
       "6197  Avon and Somerset Constabulary  Avon and Somerset Constabulary   \n",
       "6198  Avon and Somerset Constabulary  Avon and Somerset Constabulary   \n",
       "\n",
       "      Longitude   Latitude                     Location  LSOA code  \\\n",
       "0     -2.392817  51.380321         On or near MILL LANE  E01014464   \n",
       "1           NaN        NaN                  No location        NaN   \n",
       "2           NaN        NaN                  No location        NaN   \n",
       "3           NaN        NaN                  No location        NaN   \n",
       "4           NaN        NaN                  No location        NaN   \n",
       "...         ...        ...                          ...        ...   \n",
       "6194  -2.410687  51.528963  On or near SLIMBRIDGE CLOSE  E01014894   \n",
       "6195  -2.410687  51.528963  On or near SLIMBRIDGE CLOSE  E01014894   \n",
       "6196  -2.999436  51.107284      On or near COTSWOLD WAY  E01032630   \n",
       "6197  -2.999436  51.107284      On or near COTSWOLD WAY  E01032630   \n",
       "6198  -2.676240  51.491415    On or near WOODVIEW CLOSE  E01014492   \n",
       "\n",
       "                              LSOA name  \\\n",
       "0     Bath and North East Somerset 011D   \n",
       "1                                   NaN   \n",
       "2                                   NaN   \n",
       "3                                   NaN   \n",
       "4                                   NaN   \n",
       "...                                 ...   \n",
       "6194         South Gloucestershire 014C   \n",
       "6195         South Gloucestershire 014C   \n",
       "6196                     Sedgemoor 014G   \n",
       "6197                     Sedgemoor 014G   \n",
       "6198                       Bristol 008A   \n",
       "\n",
       "                                     Outcome type  \n",
       "0                                 Suspect charged  \n",
       "1                     Unable to prosecute suspect  \n",
       "2     Formal action is not in the public interest  \n",
       "3                     Unable to prosecute suspect  \n",
       "4                        Offender given a caution  \n",
       "...                                           ...  \n",
       "6194                  Unable to prosecute suspect  \n",
       "6195                  Unable to prosecute suspect  \n",
       "6196  Formal action is not in the public interest  \n",
       "6197                  Unable to prosecute suspect  \n",
       "6198                  Unable to prosecute suspect  \n",
       "\n",
       "[6199 rows x 10 columns]"
      ]
     },
     "execution_count": 4,
     "metadata": {},
     "output_type": "execute_result"
    }
   ],
   "source": [
    "df= pd.read_csv(r\"D:\\2023-02\\2023-02-avon-and-somerset-outcomes.csv\")\n",
    "df"
   ]
  },
  {
   "cell_type": "code",
   "execution_count": null,
   "metadata": {},
   "outputs": [
    {
     "data": {
      "text/html": [
       "<div>\n",
       "<style scoped>\n",
       "    .dataframe tbody tr th:only-of-type {\n",
       "        vertical-align: middle;\n",
       "    }\n",
       "\n",
       "    .dataframe tbody tr th {\n",
       "        vertical-align: top;\n",
       "    }\n",
       "\n",
       "    .dataframe thead th {\n",
       "        text-align: right;\n",
       "    }\n",
       "</style>\n",
       "<table border=\"1\" class=\"dataframe\">\n",
       "  <thead>\n",
       "    <tr style=\"text-align: right;\">\n",
       "      <th></th>\n",
       "      <th>Longitude</th>\n",
       "      <th>Latitude</th>\n",
       "    </tr>\n",
       "  </thead>\n",
       "  <tbody>\n",
       "    <tr>\n",
       "      <th>count</th>\n",
       "      <td>5831.000000</td>\n",
       "      <td>5831.000000</td>\n",
       "    </tr>\n",
       "    <tr>\n",
       "      <th>mean</th>\n",
       "      <td>-2.696249</td>\n",
       "      <td>51.323923</td>\n",
       "    </tr>\n",
       "    <tr>\n",
       "      <th>std</th>\n",
       "      <td>0.256491</td>\n",
       "      <td>0.193693</td>\n",
       "    </tr>\n",
       "    <tr>\n",
       "      <th>min</th>\n",
       "      <td>-3.593750</td>\n",
       "      <td>50.478048</td>\n",
       "    </tr>\n",
       "    <tr>\n",
       "      <th>25%</th>\n",
       "      <td>-2.947397</td>\n",
       "      <td>51.163932</td>\n",
       "    </tr>\n",
       "    <tr>\n",
       "      <th>50%</th>\n",
       "      <td>-2.598667</td>\n",
       "      <td>51.409721</td>\n",
       "    </tr>\n",
       "    <tr>\n",
       "      <th>75%</th>\n",
       "      <td>-2.543006</td>\n",
       "      <td>51.463291</td>\n",
       "    </tr>\n",
       "    <tr>\n",
       "      <th>max</th>\n",
       "      <td>0.681648</td>\n",
       "      <td>52.529727</td>\n",
       "    </tr>\n",
       "  </tbody>\n",
       "</table>\n",
       "</div>"
      ],
      "text/plain": [
       "         Longitude     Latitude\n",
       "count  5831.000000  5831.000000\n",
       "mean     -2.696249    51.323923\n",
       "std       0.256491     0.193693\n",
       "min      -3.593750    50.478048\n",
       "25%      -2.947397    51.163932\n",
       "50%      -2.598667    51.409721\n",
       "75%      -2.543006    51.463291\n",
       "max       0.681648    52.529727"
      ]
     },
     "execution_count": 5,
     "metadata": {},
     "output_type": "execute_result"
    }
   ],
   "source": [
    "df.describe()"
   ]
  },
  {
   "cell_type": "code",
   "execution_count": null,
   "metadata": {},
   "outputs": [
    {
     "name": "stdout",
     "output_type": "stream",
     "text": [
      "<class 'pandas.core.frame.DataFrame'>\n",
      "RangeIndex: 6199 entries, 0 to 6198\n",
      "Data columns (total 10 columns):\n",
      " #   Column        Non-Null Count  Dtype  \n",
      "---  ------        --------------  -----  \n",
      " 0   Crime ID      6199 non-null   object \n",
      " 1   Month         6199 non-null   object \n",
      " 2   Reported by   6199 non-null   object \n",
      " 3   Falls within  6199 non-null   object \n",
      " 4   Longitude     5831 non-null   float64\n",
      " 5   Latitude      5831 non-null   float64\n",
      " 6   Location      6199 non-null   object \n",
      " 7   LSOA code     5831 non-null   object \n",
      " 8   LSOA name     5831 non-null   object \n",
      " 9   Outcome type  6199 non-null   object \n",
      "dtypes: float64(2), object(8)\n",
      "memory usage: 484.4+ KB\n"
     ]
    }
   ],
   "source": [
    "df.info()"
   ]
  },
  {
   "cell_type": "code",
   "execution_count": null,
   "metadata": {},
   "outputs": [
    {
     "data": {
      "text/plain": [
       "Crime ID          0\n",
       "Month             0\n",
       "Reported by       0\n",
       "Falls within      0\n",
       "Longitude       368\n",
       "Latitude        368\n",
       "Location          0\n",
       "LSOA code       368\n",
       "LSOA name       368\n",
       "Outcome type      0\n",
       "dtype: int64"
      ]
     },
     "execution_count": 7,
     "metadata": {},
     "output_type": "execute_result"
    }
   ],
   "source": [
    "df.isnull().sum()"
   ]
  },
  {
   "cell_type": "code",
   "execution_count": null,
   "metadata": {},
   "outputs": [
    {
     "data": {
      "text/plain": [
       "'Vivid Ibori'"
      ]
     },
     "execution_count": 14,
     "metadata": {},
     "output_type": "execute_result"
    }
   ],
   "source": [
    "name = input(\"what is your name?: \")\n",
    "name"
   ]
  },
  {
   "cell_type": "code",
   "execution_count": null,
   "metadata": {},
   "outputs": [
    {
     "data": {
      "text/plain": [
       "'Vivid Ibori'"
      ]
     },
     "execution_count": 15,
     "metadata": {},
     "output_type": "execute_result"
    }
   ],
   "source": [
    "name"
   ]
  },
  {
   "cell_type": "code",
   "execution_count": null,
   "metadata": {},
   "outputs": [
    {
     "name": "stdout",
     "output_type": "stream",
     "text": [
      "My name is Vivid Ibori, and i am 28 years old\n"
     ]
    }
   ],
   "source": [
    "age = input(28)\n",
    "print(f\"My name is {name}, and i am {age} years old\")"
   ]
  },
  {
   "cell_type": "code",
   "execution_count": null,
   "metadata": {},
   "outputs": [
    {
     "name": "stdout",
     "output_type": "stream",
     "text": [
      "The area is : 43.92cm\n"
     ]
    }
   ],
   "source": [
    "length = float(input(\"enter the lenght: \"))\n",
    "width = float(input(\"enter the width: \"))\n",
    "area = length * width\n",
    "print(f\"The area is : {area}cm\")"
   ]
  },
  {
   "cell_type": "code",
   "execution_count": null,
   "metadata": {},
   "outputs": [
    {
     "name": "stdout",
     "output_type": "stream",
     "text": [
      "You have bought 8x pizzas\n",
      "Your total is 80.0$\n"
     ]
    }
   ],
   "source": [
    "item = input(\"What item would you like to buy?: \")\n",
    "price = float(input(\"What is the price?: \"))\n",
    "quantity = int(input(\"How many would you like?: \"))\n",
    "total = price * quantity\n",
    "print(f\"You have bought {quantity}x {item}s\")\n",
    "print(f\"Your total is {total}$\")"
   ]
  },
  {
   "cell_type": "code",
   "execution_count": null,
   "metadata": {},
   "outputs": [
    {
     "name": "stdout",
     "output_type": "stream",
     "text": [
      "Today I went to a Sussy Zoo.\n",
      "In an exhibit, I saw a Mark\n",
      "Mark was Running and angry\n",
      "I was sussy!\n"
     ]
    }
   ],
   "source": [
    "adjective= input(\"Enter an adjective (description): \")\n",
    "noun =input(\"Enter a noun (The person, place or thing): \")\n",
    "adjective2= input(\"Enter an adjective (description): \")\n",
    "noun1 =input(\"Enter a noun (The person, place or thing): \")\n",
    "verb =input(\"Enter a verb ending with 'ing'\")\n",
    "adjective3= input(\"Enter an adjective (description): \")\n",
    "\n",
    "print(f\"Today I went to a {adjective} Zoo.\")\n",
    "print(f\"In an exhibit, I saw a {noun}\")\n",
    "print(f\"{noun1} was {adjective2} and {verb}\")\n",
    "print(f\"I was {adjective3}!\")"
   ]
  },
  {
   "cell_type": "code",
   "execution_count": null,
   "metadata": {},
   "outputs": [
    {
     "name": "stdout",
     "output_type": "stream",
     "text": [
      "5\n"
     ]
    }
   ],
   "source": [
    "friend= 5\n",
    "print(friend)"
   ]
  },
  {
   "cell_type": "code",
   "execution_count": null,
   "metadata": {},
   "outputs": [
    {
     "name": "stdout",
     "output_type": "stream",
     "text": [
      "125\n"
     ]
    }
   ],
   "source": [
    "friend **= 3\n",
    "print(friend)"
   ]
  },
  {
   "cell_type": "code",
   "execution_count": null,
   "metadata": {},
   "outputs": [
    {
     "name": "stdout",
     "output_type": "stream",
     "text": [
      "0\n"
     ]
    }
   ],
   "source": [
    "friends = 30\n",
    "friends = friends % 2\n",
    "print(friends)"
   ]
  },
  {
   "cell_type": "code",
   "execution_count": null,
   "metadata": {},
   "outputs": [
    {
     "name": "stdout",
     "output_type": "stream",
     "text": [
      "9085271.309522783\n"
     ]
    }
   ],
   "source": [
    "y =7.8\n",
    "result = pow(y,y)\n",
    "print(result)\n"
   ]
  },
  {
   "cell_type": "code",
   "execution_count": null,
   "metadata": {},
   "outputs": [],
   "source": [
    "import math as mt\n",
    "#"
   ]
  },
  {
   "cell_type": "code",
   "execution_count": null,
   "metadata": {},
   "outputs": [
    {
     "name": "stdout",
     "output_type": "stream",
     "text": [
      "3.141592653589793\n"
     ]
    }
   ],
   "source": [
    "print(mt.pi)"
   ]
  },
  {
   "cell_type": "code",
   "execution_count": null,
   "metadata": {},
   "outputs": [
    {
     "name": "stdout",
     "output_type": "stream",
     "text": [
      "2.718281828459045\n"
     ]
    }
   ],
   "source": [
    "print(mt.e)"
   ]
  },
  {
   "cell_type": "code",
   "execution_count": null,
   "metadata": {},
   "outputs": [
    {
     "name": "stdout",
     "output_type": "stream",
     "text": [
      "2.792848008753788\n"
     ]
    }
   ],
   "source": [
    "print(mt.sqrt(y))"
   ]
  },
  {
   "cell_type": "code",
   "execution_count": null,
   "metadata": {},
   "outputs": [
    {
     "name": "stdout",
     "output_type": "stream",
     "text": [
      "8\n"
     ]
    }
   ],
   "source": [
    "print(mt.ceil(y))"
   ]
  },
  {
   "cell_type": "code",
   "execution_count": null,
   "metadata": {},
   "outputs": [
    {
     "name": "stdout",
     "output_type": "stream",
     "text": [
      "7\n"
     ]
    }
   ],
   "source": [
    "print(mt.floor(y))"
   ]
  },
  {
   "cell_type": "code",
   "execution_count": null,
   "metadata": {},
   "outputs": [
    {
     "name": "stdout",
     "output_type": "stream",
     "text": [
      "The circumference is : 65.97cm\n"
     ]
    }
   ],
   "source": [
    "radius =float( input(\"Enter the radius of a circle\"))\n",
    "\n",
    "c = 2* mt.pi* radius\n",
    "\n",
    "print(f\"The circumference is : {round(c,2)}cm\")"
   ]
  },
  {
   "cell_type": "code",
   "execution_count": null,
   "metadata": {},
   "outputs": [
    {
     "name": "stdout",
     "output_type": "stream",
     "text": [
      "The area of the circle  is : 346.36cm^2\n"
     ]
    }
   ],
   "source": [
    "radius =float( input(\"Enter the radius of a circle\"))\n",
    "\n",
    "area = mt.pi * pow(radius ,2)\n",
    "\n",
    "\n",
    "\n",
    "print(f\"The area of the circle  is : {round(area,2)}cm^2\")"
   ]
  },
  {
   "cell_type": "code",
   "execution_count": null,
   "metadata": {},
   "outputs": [
    {
     "name": "stdout",
     "output_type": "stream",
     "text": [
      "Vantage You are not Sign up!\n"
     ]
    }
   ],
   "source": [
    "name =input(\"Enter your Name: \").strip().ca\n",
    "\n",
    "\n",
    "if name ==\"Vivid\":\n",
    "    print(f\"{name.capitalize()} You are now sign up!\")\n",
    "else:\n",
    "    print(f\"{name.capitalize()} You are not Sign up!\")"
   ]
  },
  {
   "cell_type": "code",
   "execution_count": null,
   "metadata": {},
   "outputs": [
    {
     "name": "stdout",
     "output_type": "stream",
     "text": [
      "(vantage) You are not signed up!\n"
     ]
    }
   ],
   "source": [
    "name = input(\"Enter your Name: \").strip().lower()  # Convert input to uppercase\n",
    "\n",
    "if name == \"VIVID\":  # Compare with uppercase version\n",
    "    print(f\"({name}) You are now signed up!\")\n",
    "else:\n",
    "    print(f\"({name}) You are not signed up!\")\n"
   ]
  },
  {
   "cell_type": "code",
   "execution_count": null,
   "metadata": {},
   "outputs": [
    {
     "name": "stdout",
     "output_type": "stream",
     "text": [
      "True\n",
      "True\n"
     ]
    }
   ],
   "source": [
    "text1 = \"HELLO\"\n",
    "text2 = \"hello\"\n",
    "\n",
    "print(text1.lower() == text2)      # Output: True\n",
    "print(text1.casefold() == text2)   # Output: True\n"
   ]
  },
  {
   "cell_type": "code",
   "execution_count": null,
   "metadata": {},
   "outputs": [
    {
     "name": "stdout",
     "output_type": "stream",
     "text": [
      "False\n",
      "True\n"
     ]
    }
   ],
   "source": [
    "german_word1 = \"straße\"  # German word for \"street\"\n",
    "german_word2 = \"STRASSE\"\n",
    "\n",
    "print(german_word1.lower() == german_word2.lower())      # Output: False\n",
    "print(german_word1.casefold() == german_word2.casefold())  # Output: True\n"
   ]
  },
  {
   "cell_type": "code",
   "execution_count": null,
   "metadata": {},
   "outputs": [
    {
     "name": "stdout",
     "output_type": "stream",
     "text": [
      "10.0\n"
     ]
    }
   ],
   "source": [
    "operator = input(\"What is your operator? \")\n",
    "num1 = int(input(\"What is your first number? \"))\n",
    "num2 = int(input(\"What is your second number? \"))\n",
    "\n",
    "\n",
    "\n",
    "if operator == '+':\n",
    "    result=(num1+num2)\n",
    "    print(round(result,2))\n",
    "elif operator == \"-\":\n",
    "    result=(num1-num2)\n",
    "    print(round(result,2))\n",
    "elif operator == \"/\":\n",
    "    result=(num1/num2)\n",
    "    print(round(result,2))\n",
    "elif operator == \"*\":\n",
    "    result=(num1*num2)\n",
    "    print(round(result,2))\n",
    "else:\n",
    "    print(\"operator is not valid\")"
   ]
  },
  {
   "cell_type": "code",
   "execution_count": null,
   "metadata": {},
   "outputs": [
    {
     "name": "stdout",
     "output_type": "stream",
     "text": [
      "[ is not valid operator.\n"
     ]
    }
   ],
   "source": [
    "# Get the operator from the user\n",
    "operator = input(\"What is your operator? (+, -, *, /): \")\n",
    "\n",
    "# Get numbers from the user (comma-separated)\n",
    "numbers = input(\"Enter your numbers separated by commas: \")\n",
    "\n",
    "# Convert the input string into a list of numbers\n",
    "num_list = [float(num) for num in numbers.split(\",\")]\n",
    "\n",
    "# Perform the operation\n",
    "if operator == \"+\":\n",
    "    result = sum(num_list)\n",
    "\n",
    "elif operator == \"-\":\n",
    "    result = num_list[0]\n",
    "    for num in num_list[1:]:\n",
    "        result -= num\n",
    "\n",
    "elif operator == \"*\":\n",
    "    result = num_list[0]\n",
    "    for num in num_list[1:]:\n",
    "        result *= num\n",
    "\n",
    "elif operator == \"/\":\n",
    "    result = num_list[0]\n",
    "    for num in num_list[1:]:\n",
    "        if num == 0:\n",
    "            print(\"Error: Division by zero is not allowed.\")\n",
    "            break\n",
    "        result /= num\n",
    "\n",
    "else:\n",
    "    print(f\"{operator} is not valid operator.\")\n",
    "    result = None  # Set result to None if the operator is invalid\n",
    "\n",
    "# Print the final rounded result if valid\n",
    "if result is not None:\n",
    "    print(f\"Result: {round(result, 2)}\")\n"
   ]
  },
  {
   "cell_type": "code",
   "execution_count": null,
   "metadata": {},
   "outputs": [],
   "source": [
    "def name(x,y):\n",
    "    if x == \"Vivid\"and y == \"Ibori\":\n",
    "        print(f\"{x} you are welcome\")\n",
    "    else:\n",
    "        print(f\"{x} your access is denied\")"
   ]
  },
  {
   "cell_type": "code",
   "execution_count": null,
   "metadata": {},
   "outputs": [
    {
     "name": "stdout",
     "output_type": "stream",
     "text": [
      "Vivid Ibori, you are welcome\n",
      "vivid ibori, you are welcome\n",
      "John Doe, your access is denied\n",
      "Vivid Smith, your access is denied\n"
     ]
    }
   ],
   "source": [
    "def name(x, y):\n",
    "    # Convert inputs to lowercase for case-insensitive comparison\n",
    "    if x.capitalize() == \"Vivid\" and y.capitalize() == \"Ibori\":\n",
    "        print(f\"{x} {y}, you are welcome\")\n",
    "    else:\n",
    "        print(f\"{x} {y}, your access is denied\")\n",
    "\n",
    "# Example calls\n",
    "name(\"Vivid\", \"Ibori\")      # ✅ Vivid you are welcome\n",
    "name(\"vivid\", \"ibori\")      # ✅ vivid you are welcome\n",
    "name(\"John\", \"Doe\")         # ❌ John, your access is denied\n",
    "name(\"Vivid\", \"Smith\")      # ❌ Vivid, your access is denied\n"
   ]
  },
  {
   "cell_type": "code",
   "execution_count": null,
   "metadata": {},
   "outputs": [
    {
     "name": "stdout",
     "output_type": "stream",
     "text": [
      "Vivid ori, your access is denied\n"
     ]
    }
   ],
   "source": [
    "\n",
    "# Correctly define the dictionary\n",
    "tryy = {\"x\": \"Vivid\", \"y\": \"ori\"}\n",
    "\n",
    "# Call function using dictionary unpacking\n",
    "name(**tryy)\n"
   ]
  }
 ],
 "metadata": {
  "language_info": {
   "name": "python"
  }
 },
 "nbformat": 4,
 "nbformat_minor": 2
}
